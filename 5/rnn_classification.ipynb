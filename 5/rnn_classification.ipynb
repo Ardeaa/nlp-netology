{
  "nbformat": 4,
  "nbformat_minor": 0,
  "metadata": {
    "colab": {
      "name": "rnn_classification",
      "provenance": [],
      "collapsed_sections": []
    },
    "kernelspec": {
      "name": "python3",
      "display_name": "Python 3"
    },
    "accelerator": "GPU"
  },
  "cells": [
    {
      "cell_type": "markdown",
      "metadata": {
        "id": "8JxouBo-Tf6m",
        "colab_type": "text"
      },
      "source": [
        "# Анализ тональности с pytorch и RNN\n",
        "\n",
        "[Этот ноутбук в colab](https://colab.research.google.com/drive/1VWAERpPsozIc2hVQ5WdA_ilI0tDQ4di5)\n",
        "\n",
        "[источник](https://github.com/bentrevett/pytorch-sentiment-analysis/blob/master/1%20-%20Simple%20Sentiment%20Analysis.ipynb)\n",
        "\n",
        "## Рекуррентная нейросеть\n",
        "\n",
        "Проходится по последовательности (например, слов)  и на каждом шаге получает вектор слова и вектор предыдущего состояния.\n",
        "\n",
        "$$h_t = \\text{RNN}(x_t, h_{t-1})$$\n",
        "\n",
        "![rnn.png](https://miro.medium.com/max/627/1*go8PHsPNbbV6qRiwpUQ5BQ.png)\n"
      ]
    },
    {
      "cell_type": "markdown",
      "metadata": {
        "id": "QQ8l8Vk3TX41",
        "colab_type": "text"
      },
      "source": [
        "## Данные\n",
        "\n",
        "Мы будем использовать объекты класса `Field`. Они определяют, как данные будут храниться и обрабатываться.\n",
        "\n",
        "В поле `TEXT` задаём `tokenize='spacy'`. Это определяет, что тексты будут токенизироваться с помошью [spaCy](https://spacy.io) tokenizer. Если не подать аргументов, тексты будут разбиваться по пробелам.\n",
        "\n",
        "`LABEL` is defined by a `LabelField`, a special subset of the `Field` class specifically used for handling labels. We will explain the `dtype` argument later.\n",
        "\n",
        "Больше про класс `Field` [здесь](https://github.com/pytorch/text/blob/master/torchtext/data/field.py)."
      ]
    },
    {
      "cell_type": "code",
      "metadata": {
        "id": "pRTlfiN8JfOn",
        "colab_type": "code",
        "colab": {}
      },
      "source": [
        "import torch\n",
        "from torchtext import data\n",
        "\n",
        "SEED = 1234 # фиксируем seed для воспроизводимости\n",
        "\n",
        "torch.manual_seed(SEED)\n",
        "torch.backends.cudnn.deterministic = True\n",
        "\n",
        "TEXT = data.Field(tokenize = 'spacy')\n",
        "LABEL = data.LabelField(dtype = torch.float)"
      ],
      "execution_count": 0,
      "outputs": []
    },
    {
      "cell_type": "markdown",
      "metadata": {
        "id": "9xSFShnFJfOu",
        "colab_type": "text"
      },
      "source": [
        "В pytorch (`torchtext.datasets`) хранятся некоторые стандартные датасеты. А ещё в них встроено разделение на train и test."
      ]
    },
    {
      "cell_type": "code",
      "metadata": {
        "id": "RsHpQRUyJfOv",
        "colab_type": "code",
        "colab": {}
      },
      "source": [
        "from torchtext import datasets"
      ],
      "execution_count": 0,
      "outputs": []
    },
    {
      "cell_type": "code",
      "metadata": {
        "id": "J6sR-kNKtHKX",
        "colab_type": "code",
        "outputId": "b10596a4-2514-4e61-de02-748326dc2eae",
        "colab": {
          "base_uri": "https://localhost:8080/",
          "height": 54
        }
      },
      "source": [
        "train_data, test_data = datasets.IMDB.splits(TEXT, LABEL)"
      ],
      "execution_count": 3,
      "outputs": [
        {
          "output_type": "stream",
          "text": [
            "downloading aclImdb_v1.tar.gz\n"
          ],
          "name": "stdout"
        },
        {
          "output_type": "stream",
          "text": [
            "aclImdb_v1.tar.gz: 100%|██████████| 84.1M/84.1M [00:07<00:00, 11.7MB/s]\n"
          ],
          "name": "stderr"
        }
      ]
    },
    {
      "cell_type": "markdown",
      "metadata": {
        "id": "6UZImWWqJfOz",
        "colab_type": "text"
      },
      "source": [
        "Посмотрим сколько примеров в каждой части:"
      ]
    },
    {
      "cell_type": "code",
      "metadata": {
        "id": "g8BxQNeGJfO0",
        "colab_type": "code",
        "outputId": "e70e9bf9-8409-45d2-a904-28c2f94dcb66",
        "colab": {
          "base_uri": "https://localhost:8080/",
          "height": 54
        }
      },
      "source": [
        "print(f'Number of training examples: {len(train_data)}')\n",
        "print(f'Number of testing examples: {len(test_data)}')"
      ],
      "execution_count": 4,
      "outputs": [
        {
          "output_type": "stream",
          "text": [
            "Number of training examples: 25000\n",
            "Number of testing examples: 25000\n"
          ],
          "name": "stdout"
        }
      ]
    },
    {
      "cell_type": "markdown",
      "metadata": {
        "id": "VIaWOUXmJfO6",
        "colab_type": "text"
      },
      "source": [
        "Посмотрим на один пример:"
      ]
    },
    {
      "cell_type": "code",
      "metadata": {
        "id": "nlDTg2UWJfO8",
        "colab_type": "code",
        "outputId": "3284e183-a82e-4cb4-f536-a2c9f7bbdeda",
        "colab": {
          "base_uri": "https://localhost:8080/",
          "height": 55
        }
      },
      "source": [
        "print(vars(train_data.examples[0]))"
      ],
      "execution_count": 4,
      "outputs": [
        {
          "output_type": "stream",
          "text": [
            "{'text': ['By', 'submitting', 'this', 'comment', 'you', 'are', 'agreeing', 'to', 'the', 'terms', 'laid', 'out', 'in', 'our', 'Copyright', 'Statement', '.', 'Your', 'submission', 'must', 'be', 'your', 'own', 'original', 'work', '.', 'Your', 'comments', 'will', 'normally', 'be', 'posted', 'on', 'the', 'site', 'within', '2', '-', '3', 'business', 'days', '.', 'Comments', 'that', 'do', 'not', 'meet', 'the', 'guidelines', 'will', 'not', 'be', 'posted', '.', 'Please', 'write', 'in', 'English', 'only', '.', 'HTML', 'or', 'boards', 'mark', '-', 'up', 'is', 'not', 'supported', 'though', 'paragraph', 'breaks', 'will', 'be', 'inserted', 'if', 'you', 'leave', 'a', 'blank', 'line', 'between', 'paragraph', '.', 'We', 'sent', 'an', 'e', '-', 'mail', 'to', 'when', 'you', 'registered', '.', 'You', 'must', 'click', 'on', 'the', 'link', 'in', 'that', 'e', '-', 'mail', 'to', 'complete', 'your', 'registration', 'and', 'enjoy', 'the', 'full', 'benefits', 'of', 'being', 'registered', 'at', 'IMDb.com', '.', 'Whilst', 'you', 'wait', 'for', 'that', 'e', '-', 'mail', ',', 'you', 'can', 'still', 'update', 'some', 'of', 'your', 'registration', 'details', 'by', 'using', 'the', 'links', 'below', '.', 'Do', \"n't\", 'forget', 'to', 'keep', 'checking', 'your', 'e', '-', 'mail', 'though', '!'], 'label': 'pos'}\n"
          ],
          "name": "stdout"
        }
      ]
    },
    {
      "cell_type": "code",
      "metadata": {
        "id": "xkmvUgT-toF0",
        "colab_type": "code",
        "outputId": "a4b2b072-e605-41a8-f576-5191cbac49f7",
        "colab": {
          "base_uri": "https://localhost:8080/",
          "height": 199
        }
      },
      "source": [
        "train_data.examples[0].text[:10]"
      ],
      "execution_count": 5,
      "outputs": [
        {
          "output_type": "execute_result",
          "data": {
            "text/plain": [
              "['By',\n",
              " 'submitting',\n",
              " 'this',\n",
              " 'comment',\n",
              " 'you',\n",
              " 'are',\n",
              " 'agreeing',\n",
              " 'to',\n",
              " 'the',\n",
              " 'terms']"
            ]
          },
          "metadata": {
            "tags": []
          },
          "execution_count": 5
        }
      ]
    },
    {
      "cell_type": "code",
      "metadata": {
        "id": "Goav1LcnvlnP",
        "colab_type": "code",
        "outputId": "4ea202b7-afbd-40e2-9e7b-319588682bbf",
        "colab": {
          "base_uri": "https://localhost:8080/",
          "height": 35
        }
      },
      "source": [
        "train_data.examples[0].label"
      ],
      "execution_count": 6,
      "outputs": [
        {
          "output_type": "execute_result",
          "data": {
            "text/plain": [
              "'pos'"
            ]
          },
          "metadata": {
            "tags": []
          },
          "execution_count": 6
        }
      ]
    },
    {
      "cell_type": "markdown",
      "metadata": {
        "id": "JKdLuzhSJfPB",
        "colab_type": "text"
      },
      "source": [
        "Создадим валидационную выборку с помощью метода `.split()`. Соотношение количества примеров можно задать с помощью аргумента `split_ratio`."
      ]
    },
    {
      "cell_type": "code",
      "metadata": {
        "id": "HLYj80cNvW5R",
        "colab_type": "code",
        "colab": {}
      },
      "source": [
        "import random"
      ],
      "execution_count": 0,
      "outputs": []
    },
    {
      "cell_type": "code",
      "metadata": {
        "id": "fNV1Yf5lJfPC",
        "colab_type": "code",
        "colab": {}
      },
      "source": [
        "train_data, valid_data = train_data.split(random_state = random.seed(SEED))"
      ],
      "execution_count": 0,
      "outputs": []
    },
    {
      "cell_type": "code",
      "metadata": {
        "id": "khoVR97-JfPJ",
        "colab_type": "code",
        "outputId": "848010e1-3716-4f0c-c575-e74055384b02",
        "colab": {
          "base_uri": "https://localhost:8080/",
          "height": 72
        }
      },
      "source": [
        "print(f'Number of training examples: {len(train_data)}')\n",
        "print(f'Number of validation examples: {len(valid_data)}')\n",
        "print(f'Number of testing examples: {len(test_data)}')"
      ],
      "execution_count": 9,
      "outputs": [
        {
          "output_type": "stream",
          "text": [
            "Number of training examples: 17500\n",
            "Number of validation examples: 7500\n",
            "Number of testing examples: 25000\n"
          ],
          "name": "stdout"
        }
      ]
    },
    {
      "cell_type": "markdown",
      "metadata": {
        "id": "_t9caVm5JfPN",
        "colab_type": "text"
      },
      "source": [
        "Теперь построим _vocabulary_. Это, по большому счёту, таблица, в которой каждое слово соответствует индексу. Индекс используется для создания _one-hot_ векторов.\n",
        "\n",
        "![](https://raw.githubusercontent.com/bentrevett/pytorch-sentiment-analysis/9210842371c3bbde7b2007051dafa4c74d9768cd/assets/sentiment5.png)\n",
        "\n",
        "Количество уникальных слов 100,000 -- это очень много для векторов. Столько данных может не влезть в GPU. Поэтому мы возьмём 25,000 самых частых слов. Если нам встретится слово, которого среди них нет, оно заменится на  `<unk>`. Например, если в предожении \"This film is great and I love it\" не войдёт слово \"love\", получится \"This film is great and I `<unk>` it\"."
      ]
    },
    {
      "cell_type": "code",
      "metadata": {
        "id": "V4hUIUkBJfPO",
        "colab_type": "code",
        "colab": {}
      },
      "source": [
        "MAX_VOCAB_SIZE = 25_000\n",
        "\n",
        "TEXT.build_vocab(train_data, max_size = MAX_VOCAB_SIZE)\n",
        "LABEL.build_vocab(train_data)"
      ],
      "execution_count": 0,
      "outputs": []
    },
    {
      "cell_type": "markdown",
      "metadata": {
        "id": "GSC5oisXJfPS",
        "colab_type": "text"
      },
      "source": [
        "Немного посмотрим на данные."
      ]
    },
    {
      "cell_type": "code",
      "metadata": {
        "id": "tFTerPCkJfPT",
        "colab_type": "code",
        "outputId": "daba8d9e-d404-4699-fd6f-e4743aa91a22",
        "colab": {
          "base_uri": "https://localhost:8080/",
          "height": 54
        }
      },
      "source": [
        "print(f\"Unique tokens in TEXT vocabulary: {len(TEXT.vocab)}\")\n",
        "print(f\"Unique tokens in LABEL vocabulary: {len(LABEL.vocab)}\")"
      ],
      "execution_count": 11,
      "outputs": [
        {
          "output_type": "stream",
          "text": [
            "Unique tokens in TEXT vocabulary: 25002\n",
            "Unique tokens in LABEL vocabulary: 2\n"
          ],
          "name": "stdout"
        }
      ]
    },
    {
      "cell_type": "markdown",
      "metadata": {
        "id": "nfRXgFR2JfPb",
        "colab_type": "text"
      },
      "source": [
        "25002, а не 25000 -- из-за `<unk>` и `<pad>` токенов.\n",
        "\n",
        "В батче должны быть однаковые длины предложений, если какое-то короче -- добавляем паддинг.\n",
        "\n",
        "![](https://raw.githubusercontent.com/bentrevett/pytorch-sentiment-analysis/9210842371c3bbde7b2007051dafa4c74d9768cd/assets/sentiment6.png)"
      ]
    },
    {
      "cell_type": "code",
      "metadata": {
        "id": "ckse79eLJfPc",
        "colab_type": "code",
        "outputId": "86be8c7e-cae1-4d00-c6c1-3eb94e8c9f89",
        "colab": {
          "base_uri": "https://localhost:8080/",
          "height": 55
        }
      },
      "source": [
        "print(TEXT.vocab.freqs.most_common(20))"
      ],
      "execution_count": 12,
      "outputs": [
        {
          "output_type": "stream",
          "text": [
            "[('the', 203532), (',', 193722), ('.', 165186), ('and', 109834), ('a', 109790), ('of', 100904), ('to', 93907), ('is', 76150), ('in', 61595), ('I', 54213), ('it', 53673), ('that', 49371), ('\"', 44943), (\"'s\", 43516), ('this', 42153), ('-', 37005), ('/><br', 35751), ('was', 34927), ('as', 30584), ('with', 30068)]\n"
          ],
          "name": "stdout"
        }
      ]
    },
    {
      "cell_type": "markdown",
      "metadata": {
        "id": "oN5JgIgdJfPf",
        "colab_type": "text"
      },
      "source": [
        "Данные в словаре: `stoi` (**s**tring **to** **i**nt) и `itos` (**i**nt **to**  **s**tring)."
      ]
    },
    {
      "cell_type": "code",
      "metadata": {
        "id": "8ksnBcsFJfPh",
        "colab_type": "code",
        "outputId": "d1652545-51c7-4737-9f13-826fc2bf3b7c",
        "colab": {
          "base_uri": "https://localhost:8080/",
          "height": 35
        }
      },
      "source": [
        "print(TEXT.vocab.itos[:10])"
      ],
      "execution_count": 13,
      "outputs": [
        {
          "output_type": "stream",
          "text": [
            "['<unk>', '<pad>', 'the', ',', '.', 'and', 'a', 'of', 'to', 'is']\n"
          ],
          "name": "stdout"
        }
      ]
    },
    {
      "cell_type": "code",
      "metadata": {
        "id": "BgT3eHFKJfPo",
        "colab_type": "code",
        "outputId": "69c271b1-044b-4058-b752-86992d56a8e4",
        "colab": {
          "base_uri": "https://localhost:8080/",
          "height": 35
        }
      },
      "source": [
        "print(TEXT.vocab.stoi['and'])"
      ],
      "execution_count": 14,
      "outputs": [
        {
          "output_type": "stream",
          "text": [
            "5\n"
          ],
          "name": "stdout"
        }
      ]
    },
    {
      "cell_type": "markdown",
      "metadata": {
        "id": "1JD2WAkbJfPt",
        "colab_type": "text"
      },
      "source": [
        "Следующий шаг подготовки данных -- создать итераторы по батчам.\n",
        "\n",
        "Мы используем `BucketIterator`, который будет минимизировать добавлемые токены `<pad>`. А также мы переведём данные на GPU с помощью `torch.device`."
      ]
    },
    {
      "cell_type": "code",
      "metadata": {
        "id": "qisvSsHOJfPu",
        "colab_type": "code",
        "colab": {}
      },
      "source": [
        "BATCH_SIZE = 64\n",
        "\n",
        "device = torch.device('cuda' if torch.cuda.is_available() else 'cpu')\n",
        "\n",
        "train_iterator, valid_iterator, test_iterator = data.BucketIterator.splits(\n",
        "    (train_data, valid_data, test_data), \n",
        "    batch_size = BATCH_SIZE,\n",
        "    device = device)"
      ],
      "execution_count": 0,
      "outputs": []
    },
    {
      "cell_type": "markdown",
      "metadata": {
        "id": "S1KSEGbjJfPy",
        "colab_type": "text"
      },
      "source": [
        "## Определяем модель\n",
        "\n",
        "У нас три слоя:\n",
        "* слой _embedding_ -- transform our sparse one-hot vector (sparse as most of the elements are 0) into a dense embedding vector (dense as the dimensionality is a lot smaller and all the elements are real numbers). Это полносвязный слой.\n",
        "* RNN (takes in our dense vector and the previous hidden state $h_{t-1}$, which it uses to calculate the next hidden state, $h_t$.)\n",
        "* слой _linear_ (transforming it to the correct output dimension)\n",
        "\n",
        "![RNN](https://raw.githubusercontent.com/bentrevett/pytorch-sentiment-analysis/9210842371c3bbde7b2007051dafa4c74d9768cd/assets/sentiment7.png)\n",
        "\n",
        "Теперь о том, что происходит в `forward`:\n",
        "`text` -- это батч, тензор размера _**[sentence length, batch size]**_. Это набор предложений одинаковой длины. Вы могли заметить, что должна быть ещё одна размерность -- размер one-hot векторов для слов, но torch оченб удобно хранит их в виде индексов.\n",
        "\n",
        "После слоя `Embedding` вектора слов становятся сжатыми, и данные приобретают размер _**[sentence length, batch size, embedding dim]**_.\n",
        "\n",
        "`embedded` идёт в RNN. Вектор состояния на первом шаге автоматически инициализируется нулями.\n",
        "\n",
        "RNN возвращает 2 тензора, `output` размера _**[sentence length, batch size, hidden dim]**_ и `hidden` размера _**[1, batch size, hidden dim]**_. `output` -- это скрытые состояния после каждого шага, а `hidden` -- только последнее. Метод `squeeze` убирает лишнее измерение. \n",
        "\n",
        "Наконец прогоняем данные через последний слой."
      ]
    },
    {
      "cell_type": "code",
      "metadata": {
        "id": "EW3smrjnws62",
        "colab_type": "code",
        "colab": {}
      },
      "source": [
        "import torch.nn as nn"
      ],
      "execution_count": 0,
      "outputs": []
    },
    {
      "cell_type": "code",
      "metadata": {
        "id": "sq7bYBOIJfP0",
        "colab_type": "code",
        "colab": {}
      },
      "source": [
        "class RNN(nn.Module):\n",
        "    def __init__(self, input_dim, embedding_dim, hidden_dim, output_dim):\n",
        "        super().__init__()\n",
        "\n",
        "        self.embedding = nn.Embedding(input_dim, embedding_dim) # слой, которым мы представляем слова в виде векторов \n",
        "\n",
        "        self.rnn = nn.RNN(embedding_dim, hidden_dim) # клетка RNN\n",
        "        \n",
        "        self.fc = nn.Linear(hidden_dim, output_dim) # ещё один слой в конце\n",
        "        \n",
        "    def forward(self, text):\n",
        "\n",
        "        #text = [sent len, batch size]\n",
        "        \n",
        "        embedded = self.embedding(text)\n",
        "        \n",
        "        #embedded = [sent len, batch size, emb dim]\n",
        "        \n",
        "        output, hidden = self.rnn(embedded)\n",
        "        \n",
        "        #output = [sent len, batch size, hid dim]\n",
        "        #hidden = [1, batch size, hid dim]\n",
        "        \n",
        "        assert torch.equal(output[-1,:,:], hidden.squeeze(0))\n",
        "        \n",
        "        return self.fc(hidden.squeeze(0))"
      ],
      "execution_count": 0,
      "outputs": []
    },
    {
      "cell_type": "code",
      "metadata": {
        "id": "VaVtI0QpJfP8",
        "colab_type": "code",
        "colab": {}
      },
      "source": [
        "INPUT_DIM = len(TEXT.vocab) # размер one-hot векторов\n",
        "EMBEDDING_DIM = 100\n",
        "HIDDEN_DIM = 256\n",
        "OUTPUT_DIM = 1\n",
        "\n",
        "model = RNN(INPUT_DIM, EMBEDDING_DIM, HIDDEN_DIM, OUTPUT_DIM)"
      ],
      "execution_count": 0,
      "outputs": []
    },
    {
      "cell_type": "markdown",
      "metadata": {
        "id": "-phyMen8JfP_",
        "colab_type": "text"
      },
      "source": [
        "Посчитаем параметры:"
      ]
    },
    {
      "cell_type": "code",
      "metadata": {
        "id": "475GxKBNJfQA",
        "colab_type": "code",
        "outputId": "21bb9bef-1390-4800-fedc-a5364dd0b33a",
        "colab": {
          "base_uri": "https://localhost:8080/",
          "height": 35
        }
      },
      "source": [
        "def count_parameters(model):\n",
        "    return sum(p.numel() for p in model.parameters() if p.requires_grad)\n",
        "\n",
        "print(f'The model has {count_parameters(model):,} trainable parameters')"
      ],
      "execution_count": 19,
      "outputs": [
        {
          "output_type": "stream",
          "text": [
            "The model has 2,592,105 trainable parameters\n"
          ],
          "name": "stdout"
        }
      ]
    },
    {
      "cell_type": "markdown",
      "metadata": {
        "id": "-5wEZsBjJfQE",
        "colab_type": "text"
      },
      "source": [
        "## Обучаем модель"
      ]
    },
    {
      "cell_type": "code",
      "metadata": {
        "id": "29vuOtfaJfQH",
        "colab_type": "code",
        "colab": {}
      },
      "source": [
        "import torch.optim as optim\n",
        "\n",
        "optimizer = optim.SGD(model.parameters(), lr=1e-3)"
      ],
      "execution_count": 0,
      "outputs": []
    },
    {
      "cell_type": "markdown",
      "metadata": {
        "id": "BWqVNmXZJfQP",
        "colab_type": "text"
      },
      "source": [
        "Определяем функцию потерь: _binary cross entropy with logits_. "
      ]
    },
    {
      "cell_type": "code",
      "metadata": {
        "id": "Va6CV6Q5JfQQ",
        "colab_type": "code",
        "colab": {}
      },
      "source": [
        "criterion = nn.BCEWithLogitsLoss()"
      ],
      "execution_count": 0,
      "outputs": []
    },
    {
      "cell_type": "markdown",
      "metadata": {
        "id": "INOVr_WlJfQT",
        "colab_type": "text"
      },
      "source": [
        "Используем `.to` чтобы перенести вычисления на GPU (если она есть). "
      ]
    },
    {
      "cell_type": "code",
      "metadata": {
        "id": "6IqlKN5aJfQV",
        "colab_type": "code",
        "colab": {}
      },
      "source": [
        "model = model.to(device)\n",
        "criterion = criterion.to(device)"
      ],
      "execution_count": 0,
      "outputs": []
    },
    {
      "cell_type": "markdown",
      "metadata": {
        "id": "2Dgz83KTJfQa",
        "colab_type": "text"
      },
      "source": [
        "Функция для подсчёта accuracy:"
      ]
    },
    {
      "cell_type": "code",
      "metadata": {
        "id": "_K3pNWbyJfQc",
        "colab_type": "code",
        "colab": {}
      },
      "source": [
        "def binary_accuracy(preds, y):\n",
        "    \"\"\"\n",
        "    Returns accuracy per batch, i.e. if you get 8/10 right, this returns 0.8, NOT 8\n",
        "    \"\"\"\n",
        "\n",
        "    #round predictions to the closest integer\n",
        "    rounded_preds = torch.round(torch.sigmoid(preds))\n",
        "    correct = (rounded_preds == y).float() #convert into float for division \n",
        "    acc = correct.sum() / len(correct)\n",
        "    return acc"
      ],
      "execution_count": 0,
      "outputs": []
    },
    {
      "cell_type": "markdown",
      "metadata": {
        "id": "e3owReSQJfQg",
        "colab_type": "text"
      },
      "source": [
        "The `train` function iterates over all examples, one batch at a time. \n",
        "\n",
        "`model.train()` is used to put the model in \"training mode\", which turns on _dropout_ and _batch normalization_. Although we aren't using them in this model, it's good practice to include it.\n",
        "\n",
        "For each batch, we first zero the gradients. Each parameter in a model has a `grad` attribute which stores the gradient calculated by the `criterion`. PyTorch does not automatically remove (or \"zero\") the gradients calculated from the last gradient calculation, so they must be manually zeroed.\n",
        "\n",
        "We then feed the batch of sentences, `batch.text`, into the model. Note, you do not need to do `model.forward(batch.text)`, simply calling the model works. The `squeeze` is needed as the predictions are initially size _**[batch size, 1]**_, and we need to remove the dimension of size 1 as PyTorch expects the predictions input to our criterion function to be of size _**[batch size]**_.\n",
        "\n",
        "The loss and accuracy are then calculated using our predictions and the labels, `batch.label`, with the loss being averaged over all examples in the batch.\n",
        "\n",
        "We calculate the gradient of each parameter with `loss.backward()`, and then update the parameters using the gradients and optimizer algorithm with `optimizer.step()`.\n",
        "\n",
        "The loss and accuracy is accumulated across the epoch, the `.item()` method is used to extract a scalar from a tensor which only contains a single value.\n",
        "\n",
        "Finally, we return the loss and accuracy, averaged across the epoch. The `len` of an iterator is the number of batches in the iterator.\n",
        "\n",
        "You may recall when initializing the `LABEL` field, we set `dtype=torch.float`. This is because TorchText sets tensors to be `LongTensor`s by default, however our criterion expects both inputs to be `FloatTensor`s. Setting the `dtype` to be `torch.float`, did this for us. The alternative method of doing this would be to do the conversion inside the `train` function by passing `batch.label.float()` instad of `batch.label` to the criterion. "
      ]
    },
    {
      "cell_type": "code",
      "metadata": {
        "id": "2o5pl1JWJfQh",
        "colab_type": "code",
        "colab": {}
      },
      "source": [
        "def train(model, iterator, optimizer, criterion):\n",
        "    \n",
        "    epoch_loss = 0\n",
        "    epoch_acc = 0\n",
        "    \n",
        "    model.train() \n",
        "    \n",
        "    for batch in iterator:\n",
        "        optimizer.zero_grad() # обнуляем градиенты\n",
        "\n",
        "        predictions = model(batch.text).squeeze(1)\n",
        "        loss = criterion(predictions, batch.label)\n",
        "        acc = binary_accuracy(predictions, batch.label)\n",
        "\n",
        "        loss.backward() # считаем градиенты\n",
        "        optimizer.step() # обновляем переметры\n",
        "        \n",
        "        epoch_loss += loss.item()\n",
        "        epoch_acc += acc.item()\n",
        "        \n",
        "    return epoch_loss / len(iterator), epoch_acc / len(iterator)"
      ],
      "execution_count": 0,
      "outputs": []
    },
    {
      "cell_type": "markdown",
      "metadata": {
        "id": "PlLMprNoJfQk",
        "colab_type": "text"
      },
      "source": [
        "`evaluate` is similar to `train`, with a few modifications as you don't want to update the parameters when evaluating.\n",
        "\n",
        "`model.eval()` puts the model in \"evaluation mode\", this turns off _dropout_ and _batch normalization_. Again, we are not using them in this model, but it is good practice to include them.\n",
        "\n",
        "No gradients are calculated on PyTorch operations inside the `with no_grad()` block. This causes less memory to be used and speeds up computation.\n",
        "\n",
        "The rest of the function is the same as `train`, with the removal of `optimizer.zero_grad()`, `loss.backward()` and `optimizer.step()`, as we do not update the model's parameters when evaluating."
      ]
    },
    {
      "cell_type": "code",
      "metadata": {
        "id": "R5WLm5S7JfQl",
        "colab_type": "code",
        "colab": {}
      },
      "source": [
        "def evaluate(model, iterator, criterion):\n",
        "    \n",
        "    epoch_loss = 0\n",
        "    epoch_acc = 0\n",
        "    \n",
        "    model.eval()\n",
        "    \n",
        "    with torch.no_grad():\n",
        "    \n",
        "        for batch in iterator:\n",
        "\n",
        "            predictions = model(batch.text).squeeze(1)\n",
        "            \n",
        "            loss = criterion(predictions, batch.label)\n",
        "            acc = binary_accuracy(predictions, batch.label)\n",
        "\n",
        "            epoch_loss += loss.item()\n",
        "            epoch_acc += acc.item()\n",
        "        \n",
        "    return epoch_loss / len(iterator), epoch_acc / len(iterator)"
      ],
      "execution_count": 0,
      "outputs": []
    },
    {
      "cell_type": "markdown",
      "metadata": {
        "id": "kRVfyROaJfQu",
        "colab_type": "text"
      },
      "source": [
        "Функция для оценки времени обучения:"
      ]
    },
    {
      "cell_type": "code",
      "metadata": {
        "id": "QEj4QsqnJfQw",
        "colab_type": "code",
        "colab": {}
      },
      "source": [
        "import time\n",
        "\n",
        "def epoch_time(start_time, end_time):\n",
        "    elapsed_time = end_time - start_time\n",
        "    elapsed_mins = int(elapsed_time / 60)\n",
        "    elapsed_secs = int(elapsed_time - (elapsed_mins * 60))\n",
        "    return elapsed_mins, elapsed_secs"
      ],
      "execution_count": 0,
      "outputs": []
    },
    {
      "cell_type": "markdown",
      "metadata": {
        "id": "J7UjrXQIJfQz",
        "colab_type": "text"
      },
      "source": [
        "Обучаем несколько эпох, на каждой эпохе оцениваем качество."
      ]
    },
    {
      "cell_type": "code",
      "metadata": {
        "id": "a9EzB-3cJfQ0",
        "colab_type": "code",
        "outputId": "6e1ac31e-f77d-420d-c357-341e484f0da7",
        "colab": {
          "base_uri": "https://localhost:8080/",
          "height": 290
        }
      },
      "source": [
        "N_EPOCHS = 5\n",
        "\n",
        "for epoch in range(N_EPOCHS):\n",
        "\n",
        "    start_time = time.time()\n",
        "    \n",
        "    train_loss, train_acc = train(model, train_iterator, optimizer, criterion)\n",
        "    valid_loss, valid_acc = evaluate(model, valid_iterator, criterion)\n",
        "    \n",
        "    end_time = time.time()\n",
        "    epoch_mins, epoch_secs = epoch_time(start_time, end_time)\n",
        "    \n",
        "    print(f'Epoch: {epoch+1:02} | Epoch Time: {epoch_mins}m {epoch_secs}s')\n",
        "    print(f'\\tTrain Loss: {train_loss:.3f} | Train Acc: {train_acc*100:.2f}%')\n",
        "    print(f'\\t Val. Loss: {valid_loss:.3f} |  Val. Acc: {valid_acc*100:.2f}%')"
      ],
      "execution_count": 69,
      "outputs": [
        {
          "output_type": "stream",
          "text": [
            "Epoch: 01 | Epoch Time: 0m 45s\n",
            "\tTrain Loss: 0.693 | Train Acc: 50.18%\n",
            "\t Val. Loss: 0.694 |  Val. Acc: 48.81%\n",
            "Epoch: 02 | Epoch Time: 0m 45s\n",
            "\tTrain Loss: 0.693 | Train Acc: 49.91%\n",
            "\t Val. Loss: 0.694 |  Val. Acc: 48.83%\n",
            "Epoch: 03 | Epoch Time: 0m 44s\n",
            "\tTrain Loss: 0.693 | Train Acc: 50.14%\n",
            "\t Val. Loss: 0.694 |  Val. Acc: 48.91%\n",
            "Epoch: 04 | Epoch Time: 0m 45s\n",
            "\tTrain Loss: 0.693 | Train Acc: 50.15%\n",
            "\t Val. Loss: 0.694 |  Val. Acc: 48.94%\n",
            "Epoch: 05 | Epoch Time: 0m 44s\n",
            "\tTrain Loss: 0.693 | Train Acc: 50.54%\n",
            "\t Val. Loss: 0.694 |  Val. Acc: 48.87%\n"
          ],
          "name": "stdout"
        }
      ]
    },
    {
      "cell_type": "markdown",
      "metadata": {
        "id": "EQx2EHMEJfQ8",
        "colab_type": "text"
      },
      "source": [
        "Loss уменьшается слабовато. Потому что эта модель далека от идеала. \n",
        "\n",
        "Теперь измерим главную метрику -- accuracy на тесте.\n"
      ]
    },
    {
      "cell_type": "code",
      "metadata": {
        "id": "zTY_ZeV_JfRD",
        "colab_type": "code",
        "outputId": "97c8c339-69ff-4f24-cb53-9656285df47c",
        "colab": {
          "base_uri": "https://localhost:8080/",
          "height": 35
        }
      },
      "source": [
        "test_loss, test_acc = evaluate(model, test_iterator, criterion)\n",
        "print(f'Test Loss: {test_loss:.3f} | Test Acc: {test_acc*100:.2f}%')"
      ],
      "execution_count": 70,
      "outputs": [
        {
          "output_type": "stream",
          "text": [
            "Test Loss: 0.700 | Test Acc: 40.63%\n"
          ],
          "name": "stdout"
        }
      ]
    },
    {
      "cell_type": "markdown",
      "metadata": {
        "id": "MdhL9ZMgAg2u",
        "colab_type": "text"
      },
      "source": [
        "## Задания\n",
        "\n",
        "* Измените архитектуру нейросети так, чтобы перед последним слоем был dropout (`nn.Dropout`); измерьте качество\n",
        "* попробуйте другой оптимизатор, например `optim.Adam`\n",
        "* специально обработаем токены `<pad>`"
      ]
    },
    {
      "cell_type": "code",
      "metadata": {
        "id": "iJmklFHYQZDH",
        "colab_type": "code",
        "colab": {}
      },
      "source": [
        ""
      ],
      "execution_count": 0,
      "outputs": []
    }
  ]
}